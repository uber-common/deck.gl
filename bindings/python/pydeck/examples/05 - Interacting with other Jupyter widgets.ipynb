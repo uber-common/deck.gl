{
 "cells": [
  {
   "cell_type": "code",
   "execution_count": 1,
   "metadata": {},
   "outputs": [],
   "source": [
    "import pydeck as pyd\n",
    "import pandas as pd"
   ]
  },
  {
   "cell_type": "markdown",
   "metadata": {},
   "source": [
    "# Plotting lights at night\n",
    "\n",
    "NASA has collected global light emission data for over 30 years. The data set is a deeply fascinating one and has been used for news stories on the Syrian Civil War [[1]](https://time.com/3741451/syria-lights-civil-war-satellite/), North Korea [[2]](https://www.cbsnews.com/pictures/north-korea-hermit-country-space-photos/4/), and economic growth [[3]](https://qz.com/959563/nasas-black-marble-map-shows-the-light-of-human-population-centers-at-night-throughout-2016/).\n",
    "\n",
    "In this notebook, we'll use a deck.gl [ScreenGridLayer](https://deck.gl/#/examples/core-layers/screen-grid-layer) to visualize some of the changes at different points in time.\n",
    "\n",
    "## Getting the data\n",
    "\n",
    "The data for Chengdu, China, is cleaned and available below:"
   ]
  },
  {
   "cell_type": "code",
   "execution_count": 2,
   "metadata": {},
   "outputs": [
    {
     "data": {
      "text/html": [
       "<div>\n",
       "<style scoped>\n",
       "    .dataframe tbody tr th:only-of-type {\n",
       "        vertical-align: middle;\n",
       "    }\n",
       "\n",
       "    .dataframe tbody tr th {\n",
       "        vertical-align: top;\n",
       "    }\n",
       "\n",
       "    .dataframe thead th {\n",
       "        text-align: right;\n",
       "    }\n",
       "</style>\n",
       "<table border=\"1\" class=\"dataframe\">\n",
       "  <thead>\n",
       "    <tr style=\"text-align: right;\">\n",
       "      <th></th>\n",
       "      <th>year</th>\n",
       "      <th>lng</th>\n",
       "      <th>lat</th>\n",
       "      <th>brightness</th>\n",
       "    </tr>\n",
       "  </thead>\n",
       "  <tbody>\n",
       "    <tr>\n",
       "      <th>0</th>\n",
       "      <td>1993</td>\n",
       "      <td>104.575</td>\n",
       "      <td>31.808</td>\n",
       "      <td>4</td>\n",
       "    </tr>\n",
       "    <tr>\n",
       "      <th>1</th>\n",
       "      <td>1993</td>\n",
       "      <td>104.583</td>\n",
       "      <td>31.808</td>\n",
       "      <td>4</td>\n",
       "    </tr>\n",
       "    <tr>\n",
       "      <th>2</th>\n",
       "      <td>1993</td>\n",
       "      <td>104.592</td>\n",
       "      <td>31.808</td>\n",
       "      <td>4</td>\n",
       "    </tr>\n",
       "    <tr>\n",
       "      <th>3</th>\n",
       "      <td>1993</td>\n",
       "      <td>104.600</td>\n",
       "      <td>31.808</td>\n",
       "      <td>4</td>\n",
       "    </tr>\n",
       "    <tr>\n",
       "      <th>4</th>\n",
       "      <td>1993</td>\n",
       "      <td>104.675</td>\n",
       "      <td>31.808</td>\n",
       "      <td>4</td>\n",
       "    </tr>\n",
       "  </tbody>\n",
       "</table>\n",
       "</div>"
      ],
      "text/plain": [
       "   year      lng     lat  brightness\n",
       "0  1993  104.575  31.808           4\n",
       "1  1993  104.583  31.808           4\n",
       "2  1993  104.592  31.808           4\n",
       "3  1993  104.600  31.808           4\n",
       "4  1993  104.675  31.808           4"
      ]
     },
     "execution_count": 2,
     "metadata": {},
     "output_type": "execute_result"
    }
   ],
   "source": [
    "LIGHTS_URL = 'https://raw.githubusercontent.com/ajduberstein/lights_at_night/master/chengdu_lights_at_night.csv'\n",
    "df = pd.read_csv(LIGHTS_URL)\n",
    "df.head()"
   ]
  },
  {
   "cell_type": "markdown",
   "metadata": {},
   "source": [
    "### Setting the colors\n",
    "PyDeck does need to know the color for this data in advance of plotting it"
   ]
  },
  {
   "cell_type": "code",
   "execution_count": 3,
   "metadata": {},
   "outputs": [
    {
     "data": {
      "text/html": [
       "<div>\n",
       "<style scoped>\n",
       "    .dataframe tbody tr th:only-of-type {\n",
       "        vertical-align: middle;\n",
       "    }\n",
       "\n",
       "    .dataframe tbody tr th {\n",
       "        vertical-align: top;\n",
       "    }\n",
       "\n",
       "    .dataframe thead th {\n",
       "        text-align: right;\n",
       "    }\n",
       "</style>\n",
       "<table border=\"1\" class=\"dataframe\">\n",
       "  <thead>\n",
       "    <tr style=\"text-align: right;\">\n",
       "      <th></th>\n",
       "      <th>year</th>\n",
       "      <th>lng</th>\n",
       "      <th>lat</th>\n",
       "      <th>brightness</th>\n",
       "      <th>color</th>\n",
       "    </tr>\n",
       "  </thead>\n",
       "  <tbody>\n",
       "    <tr>\n",
       "      <th>295953</th>\n",
       "      <td>2005</td>\n",
       "      <td>104.642</td>\n",
       "      <td>29.617</td>\n",
       "      <td>3</td>\n",
       "      <td>[255, 12, 255, 255]</td>\n",
       "    </tr>\n",
       "    <tr>\n",
       "      <th>61004</th>\n",
       "      <td>2009</td>\n",
       "      <td>105.392</td>\n",
       "      <td>31.217</td>\n",
       "      <td>21</td>\n",
       "      <td>[255, 84, 255, 255]</td>\n",
       "    </tr>\n",
       "    <tr>\n",
       "      <th>169694</th>\n",
       "      <td>2013</td>\n",
       "      <td>104.517</td>\n",
       "      <td>30.367</td>\n",
       "      <td>21</td>\n",
       "      <td>[255, 84, 255, 255]</td>\n",
       "    </tr>\n",
       "    <tr>\n",
       "      <th>208493</th>\n",
       "      <td>2007</td>\n",
       "      <td>103.158</td>\n",
       "      <td>30.142</td>\n",
       "      <td>3</td>\n",
       "      <td>[255, 12, 255, 255]</td>\n",
       "    </tr>\n",
       "    <tr>\n",
       "      <th>112543</th>\n",
       "      <td>2001</td>\n",
       "      <td>104.492</td>\n",
       "      <td>29.725</td>\n",
       "      <td>19</td>\n",
       "      <td>[255, 76, 255, 255]</td>\n",
       "    </tr>\n",
       "    <tr>\n",
       "      <th>158166</th>\n",
       "      <td>2013</td>\n",
       "      <td>103.442</td>\n",
       "      <td>30.983</td>\n",
       "      <td>7</td>\n",
       "      <td>[255, 28, 255, 255]</td>\n",
       "    </tr>\n",
       "    <tr>\n",
       "      <th>102570</th>\n",
       "      <td>2001</td>\n",
       "      <td>104.200</td>\n",
       "      <td>30.575</td>\n",
       "      <td>19</td>\n",
       "      <td>[255, 76, 255, 255]</td>\n",
       "    </tr>\n",
       "    <tr>\n",
       "      <th>95948</th>\n",
       "      <td>2001</td>\n",
       "      <td>103.683</td>\n",
       "      <td>30.958</td>\n",
       "      <td>11</td>\n",
       "      <td>[255, 44, 255, 255]</td>\n",
       "    </tr>\n",
       "    <tr>\n",
       "      <th>214575</th>\n",
       "      <td>2007</td>\n",
       "      <td>104.958</td>\n",
       "      <td>29.683</td>\n",
       "      <td>4</td>\n",
       "      <td>[255, 16, 255, 255]</td>\n",
       "    </tr>\n",
       "    <tr>\n",
       "      <th>212589</th>\n",
       "      <td>2007</td>\n",
       "      <td>102.808</td>\n",
       "      <td>29.842</td>\n",
       "      <td>3</td>\n",
       "      <td>[255, 12, 255, 255]</td>\n",
       "    </tr>\n",
       "  </tbody>\n",
       "</table>\n",
       "</div>"
      ],
      "text/plain": [
       "        year      lng     lat  brightness                color\n",
       "295953  2005  104.642  29.617           3  [255, 12, 255, 255]\n",
       "61004   2009  105.392  31.217          21  [255, 84, 255, 255]\n",
       "169694  2013  104.517  30.367          21  [255, 84, 255, 255]\n",
       "208493  2007  103.158  30.142           3  [255, 12, 255, 255]\n",
       "112543  2001  104.492  29.725          19  [255, 76, 255, 255]\n",
       "158166  2013  103.442  30.983           7  [255, 28, 255, 255]\n",
       "102570  2001  104.200  30.575          19  [255, 76, 255, 255]\n",
       "95948   2001  103.683  30.958          11  [255, 44, 255, 255]\n",
       "214575  2007  104.958  29.683           4  [255, 16, 255, 255]\n",
       "212589  2007  102.808  29.842           3  [255, 12, 255, 255]"
      ]
     },
     "execution_count": 3,
     "metadata": {},
     "output_type": "execute_result"
    }
   ],
   "source": [
    "df['color'] = df['brightness'].apply(lambda val: [255, val * 4,  255, 255])\n",
    "df.sample(10)"
   ]
  },
  {
   "cell_type": "markdown",
   "metadata": {},
   "source": [
    "### Configuring the coordinates\n",
    "\n",
    "Currently PyDeck expects coordinates to be an array listed in one field, which we can implement in Pandas:"
   ]
  },
  {
   "cell_type": "code",
   "execution_count": 4,
   "metadata": {},
   "outputs": [
    {
     "data": {
      "text/html": [
       "<div>\n",
       "<style scoped>\n",
       "    .dataframe tbody tr th:only-of-type {\n",
       "        vertical-align: middle;\n",
       "    }\n",
       "\n",
       "    .dataframe tbody tr th {\n",
       "        vertical-align: top;\n",
       "    }\n",
       "\n",
       "    .dataframe thead th {\n",
       "        text-align: right;\n",
       "    }\n",
       "</style>\n",
       "<table border=\"1\" class=\"dataframe\">\n",
       "  <thead>\n",
       "    <tr style=\"text-align: right;\">\n",
       "      <th></th>\n",
       "      <th>position</th>\n",
       "      <th>color</th>\n",
       "      <th>year</th>\n",
       "    </tr>\n",
       "  </thead>\n",
       "  <tbody>\n",
       "    <tr>\n",
       "      <th>0</th>\n",
       "      <td>[104.575, 31.808000000000003]</td>\n",
       "      <td>[255, 16, 255, 255]</td>\n",
       "      <td>1993</td>\n",
       "    </tr>\n",
       "    <tr>\n",
       "      <th>1</th>\n",
       "      <td>[104.583, 31.808000000000003]</td>\n",
       "      <td>[255, 16, 255, 255]</td>\n",
       "      <td>1993</td>\n",
       "    </tr>\n",
       "    <tr>\n",
       "      <th>2</th>\n",
       "      <td>[104.592, 31.808000000000003]</td>\n",
       "      <td>[255, 16, 255, 255]</td>\n",
       "      <td>1993</td>\n",
       "    </tr>\n",
       "    <tr>\n",
       "      <th>3</th>\n",
       "      <td>[104.6, 31.808000000000003]</td>\n",
       "      <td>[255, 16, 255, 255]</td>\n",
       "      <td>1993</td>\n",
       "    </tr>\n",
       "    <tr>\n",
       "      <th>4</th>\n",
       "      <td>[104.675, 31.808000000000003]</td>\n",
       "      <td>[255, 16, 255, 255]</td>\n",
       "      <td>1993</td>\n",
       "    </tr>\n",
       "  </tbody>\n",
       "</table>\n",
       "</div>"
      ],
      "text/plain": [
       "                        position                color  year\n",
       "0  [104.575, 31.808000000000003]  [255, 16, 255, 255]  1993\n",
       "1  [104.583, 31.808000000000003]  [255, 16, 255, 255]  1993\n",
       "2  [104.592, 31.808000000000003]  [255, 16, 255, 255]  1993\n",
       "3    [104.6, 31.808000000000003]  [255, 16, 255, 255]  1993\n",
       "4  [104.675, 31.808000000000003]  [255, 16, 255, 255]  1993"
      ]
     },
     "execution_count": 4,
     "metadata": {},
     "output_type": "execute_result"
    }
   ],
   "source": [
    "df['position'] = df.apply(lambda row: [row['lng'], row['lat']], axis=1)\n",
    "# Make the data frame smaller by only plotting useful fields\n",
    "result_df = df[['position', 'color', 'year']]\n",
    "result_df.head()"
   ]
  },
  {
   "cell_type": "markdown",
   "metadata": {},
   "source": [
    "## Plotting and interacting\n",
    "\n",
    "We can plot this data set of light brightness by year, configuring a slider to filter the data as below:"
   ]
  },
  {
   "cell_type": "code",
   "execution_count": 5,
   "metadata": {},
   "outputs": [
    {
     "data": {
      "application/vnd.jupyter.widget-view+json": {
       "model_id": "cf1093b60d5a42f8921fee8e2eac0858",
       "version_major": 2,
       "version_minor": 0
      },
      "text/plain": [
       "DeckGLWidget(json_input='{\"initialViewState\": {\"bearing\": 0, \"latitude\": 31.0, \"longitude\": 104.5, \"maxZoom\": …"
      ]
     },
     "metadata": {},
     "output_type": "display_data"
    }
   ],
   "source": [
    "plottable = result_df[result_df['year'] == 1993].to_dict(orient='records')\n",
    "\n",
    "view_state = pyd.ViewState(latitude=31.0, longitude=104.5, zoom=8)\n",
    "scatterplot = pyd.Layer(\n",
    "    'ScatterplotLayer',\n",
    "    data=plottable,\n",
    "    get_position='position',\n",
    "    get_fill_color='color',\n",
    "    opacity=0.5,\n",
    "    get_radius=800)\n",
    "r = pyd.Deck(layers=[scatterplot], initial_view_state=view_state)\n",
    "r.show()"
   ]
  },
  {
   "cell_type": "code",
   "execution_count": 6,
   "metadata": {},
   "outputs": [
    {
     "data": {
      "application/vnd.jupyter.widget-view+json": {
       "model_id": "fe1657f7d19e4b80af460295de621adb",
       "version_major": 2,
       "version_minor": 0
      },
      "text/plain": [
       "IntSlider(value=1993, max=2013, min=1993, step=2)"
      ]
     },
     "metadata": {},
     "output_type": "display_data"
    }
   ],
   "source": [
    "import ipywidgets as widgets\n",
    "from IPython.display import display\n",
    "slider = widgets.IntSlider(1992, min=1993, max=2013, step=2)\n",
    "def on_change(v):\n",
    "    plottable = result_df[result_df['year'] == slider.value].to_dict(orient='records')\n",
    "    scatterplot.data = plottable\n",
    "    r.update()\n",
    "    \n",
    "slider.observe(on_change, names='value')\n",
    "display(slider)"
   ]
  }
 ],
 "metadata": {
  "kernelspec": {
   "display_name": "Python 2",
   "language": "python",
   "name": "python2"
  },
  "language_info": {
   "codemirror_mode": {
    "name": "ipython",
    "version": 3
   },
   "file_extension": ".py",
   "mimetype": "text/x-python",
   "name": "python",
   "nbconvert_exporter": "python",
   "pygments_lexer": "ipython3",
   "version": "3.7.3"
  }
 },
 "nbformat": 4,
 "nbformat_minor": 2
}
