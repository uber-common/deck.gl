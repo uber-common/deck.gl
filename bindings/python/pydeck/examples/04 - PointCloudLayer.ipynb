{
 "cells": [
  {
   "cell_type": "code",
   "execution_count": 55,
   "metadata": {},
   "outputs": [],
   "source": [
    "import pandas as pd\n",
    "\n",
    "URL = 'https://raw.githubusercontent.com/ajduberstein/oakland_point_cloud/master/%s'\n",
    "DATA_URL = URL % 'lidar_chunks_1.csv'\n",
    "LOOKUP_URL = URL % 'ground_truth_label.csv'\n",
    "lidar = pd.read_csv(DATA_URL)\n",
    "lookup = pd.read_csv(LOOKUP_URL)\n",
    "lidar = lidar.merge(lookup)"
   ]
  },
  {
   "cell_type": "code",
   "execution_count": null,
   "metadata": {},
   "outputs": [],
   "source": [
    "print('Number of points:', lidar.count())\n",
    "lidar.head()"
   ]
  },
  {
   "cell_type": "code",
   "execution_count": 57,
   "metadata": {},
   "outputs": [
    {
     "data": {
      "text/html": [
       "<div>\n",
       "<style scoped>\n",
       "    .dataframe tbody tr th:only-of-type {\n",
       "        vertical-align: middle;\n",
       "    }\n",
       "\n",
       "    .dataframe tbody tr th {\n",
       "        vertical-align: top;\n",
       "    }\n",
       "\n",
       "    .dataframe thead th {\n",
       "        text-align: right;\n",
       "    }\n",
       "</style>\n",
       "<table border=\"1\" class=\"dataframe\">\n",
       "  <thead>\n",
       "    <tr style=\"text-align: right;\">\n",
       "      <th></th>\n",
       "      <th>x</th>\n",
       "      <th>y</th>\n",
       "      <th>z</th>\n",
       "      <th>label_id</th>\n",
       "      <th>confidence</th>\n",
       "      <th>label_name</th>\n",
       "      <th>color</th>\n",
       "    </tr>\n",
       "  </thead>\n",
       "  <tbody>\n",
       "    <tr>\n",
       "      <th>0</th>\n",
       "      <td>-16.97</td>\n",
       "      <td>-27.84</td>\n",
       "      <td>5.72</td>\n",
       "      <td>1400</td>\n",
       "      <td>2</td>\n",
       "      <td>facade</td>\n",
       "      <td>[197, 42, 104]</td>\n",
       "    </tr>\n",
       "    <tr>\n",
       "      <th>1</th>\n",
       "      <td>-16.98</td>\n",
       "      <td>-27.83</td>\n",
       "      <td>5.42</td>\n",
       "      <td>1400</td>\n",
       "      <td>2</td>\n",
       "      <td>facade</td>\n",
       "      <td>[197, 42, 104]</td>\n",
       "    </tr>\n",
       "    <tr>\n",
       "      <th>2</th>\n",
       "      <td>-17.09</td>\n",
       "      <td>-28.00</td>\n",
       "      <td>5.73</td>\n",
       "      <td>1400</td>\n",
       "      <td>2</td>\n",
       "      <td>facade</td>\n",
       "      <td>[197, 42, 104]</td>\n",
       "    </tr>\n",
       "    <tr>\n",
       "      <th>3</th>\n",
       "      <td>-17.12</td>\n",
       "      <td>-28.00</td>\n",
       "      <td>5.42</td>\n",
       "      <td>1400</td>\n",
       "      <td>2</td>\n",
       "      <td>facade</td>\n",
       "      <td>[197, 42, 104]</td>\n",
       "    </tr>\n",
       "    <tr>\n",
       "      <th>4</th>\n",
       "      <td>-17.07</td>\n",
       "      <td>-27.98</td>\n",
       "      <td>5.14</td>\n",
       "      <td>1400</td>\n",
       "      <td>2</td>\n",
       "      <td>facade</td>\n",
       "      <td>[197, 42, 104]</td>\n",
       "    </tr>\n",
       "  </tbody>\n",
       "</table>\n",
       "</div>"
      ],
      "text/plain": [
       "       x      y     z  label_id  confidence label_name           color\n",
       "0 -16.97 -27.84  5.72      1400           2    facade   [197, 42, 104]\n",
       "1 -16.98 -27.83  5.42      1400           2    facade   [197, 42, 104]\n",
       "2 -17.09 -28.00  5.73      1400           2    facade   [197, 42, 104]\n",
       "3 -17.12 -28.00  5.42      1400           2    facade   [197, 42, 104]\n",
       "4 -17.07 -27.98  5.14      1400           2    facade   [197, 42, 104]"
      ]
     },
     "execution_count": 57,
     "metadata": {},
     "output_type": "execute_result"
    }
   ],
   "source": [
    "from pydeck import data_utils\n",
    "\n",
    "color_lookup = data_utils.assign_random_colors(lidar['label_name'])\n",
    "\n",
    "lidar['color'] = lidar.apply(lambda row: color_lookup.get(row['label_name']), axis=1)\n",
    "\n",
    "lidar.head()"
   ]
  },
  {
   "cell_type": "code",
   "execution_count": 58,
   "metadata": {},
   "outputs": [
    {
     "data": {
      "application/vnd.jupyter.widget-view+json": {
       "model_id": "ef96c7eb412344f8a7dc09c13415b8df",
       "version_major": 2,
       "version_minor": 0
      },
      "text/plain": [
       "DeckGLWidget(json_input='{\"initialViewState\": {\"bearing\": 0, \"coordinateSystem\": \"COORDINATE_SYSTEM.METERS\", \"…"
      ]
     },
     "metadata": {},
     "output_type": "display_data"
    }
   ],
   "source": [
    "from pydeck import Deck, Layer\n",
    "\n",
    "lidar['coordinates'] = lidar.apply(lambda x: [x['x'], x['y'], x['z']], axis=1)\n",
    "\n",
    "point_cloud = Layer(\n",
    "    'PointCloudLayer',\n",
    "    lidar[['coordinates', 'label_name', 'color']],\n",
    "    get_position='coordinates',\n",
    "    get_normal=[0, 0, 1],\n",
    "    get_color='color',\n",
    "    radius_pixels=4)\n",
    "\n",
    "r = Deck(\n",
    "    point_cloud,\n",
    "    initial_view_state=pdk.ViewState(\n",
    "        fov=2,\n",
    "        rotation_x=0,\n",
    "        max_zoom=100,\n",
    "        coordinate_system='COORDINATE_SYSTEM.METERS',\n",
    "        rotation_orbit=0,\n",
    "        orbit_axis='Y',\n",
    "        zoom=1,\n",
    "        distance=10,\n",
    "        min_distance=1,\n",
    "        max_distance=100\n",
    "    ),\n",
    "    map_style=None\n",
    ")\n",
    "r.show()"
   ]
  }
 ],
 "metadata": {
  "kernelspec": {
   "display_name": "Python 3",
   "language": "python",
   "name": "python3"
  },
  "language_info": {
   "codemirror_mode": {
    "name": "ipython",
    "version": 3
   },
   "file_extension": ".py",
   "mimetype": "text/x-python",
   "name": "python",
   "nbconvert_exporter": "python",
   "pygments_lexer": "ipython3",
   "version": "3.7.3"
  }
 },
 "nbformat": 4,
 "nbformat_minor": 2
}
