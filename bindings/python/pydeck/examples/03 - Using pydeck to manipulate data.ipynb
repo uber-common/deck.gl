{
 "cells": [
  {
   "cell_type": "markdown",
   "metadata": {},
   "source": [
    "# Selecting data for use in Python: Singapore taxi location data\n",
    "\n",
    "*(About 5-10 minutes to read)*\n",
    "\n",
    "Often it's easier to use a visual application to draw a shape than define a geometry in code. Here we'll explore how pydeck can be used to select data and pass that selected data back to the Jupyter kernel for use in Pandas.\n",
    "\n",
    "## Contents\n",
    "\n",
    "- [Getting the data](#Getting-the-data)\n",
    "- [Plotting the data](#Plotting-the-data)\n",
    "- [Interaction](#Interaction)"
   ]
  },
  {
   "cell_type": "markdown",
   "metadata": {},
   "source": [
    "## Getting the data\n",
    "\n",
    "Here we'll use the live taxi location API provided by the government of Singapore."
   ]
  },
  {
   "cell_type": "code",
   "execution_count": 57,
   "metadata": {},
   "outputs": [],
   "source": [
    "import pydeck as pdk\n",
    "\n",
    "DATA_URL = 'https://api.data.gov.sg/v1/transport/taxi-availability'\n",
    "COLOR_RANGE = [\n",
    "  [255, 255, 178, 25],\n",
    "  [254, 217, 118, 85],\n",
    "  [254, 178, 76, 127],\n",
    "  [253, 141, 60, 170],\n",
    "  [240, 59, 32, 212],\n",
    "  [189, 0, 38, 255]\n",
    "]"
   ]
  },
  {
   "cell_type": "code",
   "execution_count": 58,
   "metadata": {},
   "outputs": [],
   "source": [
    "import pandas as pd\n",
    "import requests\n",
    "\n",
    "json = requests.get(DATA_URL).json()\n",
    "df = pd.DataFrame(json[\"features\"][0][\"geometry\"][\"coordinates\"])\n",
    "df.columns = ['lng', 'lat']\n",
    "\n",
    "viewport = pdk.data_utils.compute_viewport(df[['lng', 'lat']])\n",
    "layer = pdk.Layer(\n",
    "    'ScreenGridLayer',\n",
    "    df,\n",
    "    cell_size_pixels=20,\n",
    "    color_range=COLOR_RANGE,\n",
    "    get_position='[lng, lat]',\n",
    "    pickable=True,\n",
    "    auto_highlight=True)\n",
    "r = pdk.Deck(layers=[layer], initial_view_state=viewport)"
   ]
  },
  {
   "cell_type": "code",
   "execution_count": 59,
   "metadata": {},
   "outputs": [
    {
     "data": {
      "application/vnd.jupyter.widget-view+json": {
       "model_id": "3df28f07550a420a9cc4394b2481bc88",
       "version_major": 2,
       "version_minor": 0
      },
      "text/plain": [
       "DeckGLWidget(json_input='{\"initialViewState\": {\"bearing\": 0, \"latitude\": 1.3466294511520216, \"longitude\": 103.…"
      ]
     },
     "metadata": {},
     "output_type": "display_data"
    }
   ],
   "source": [
    "r.show()"
   ]
  },
  {
   "cell_type": "markdown",
   "metadata": {},
   "source": [
    "# Two way communication\n",
    "\n",
    "Click the above visualization and then execute the cell below to pass data from the application to Python"
   ]
  },
  {
   "cell_type": "code",
   "execution_count": 71,
   "metadata": {},
   "outputs": [
    {
     "data": {
      "text/html": [
       "<div>\n",
       "<style scoped>\n",
       "    .dataframe tbody tr th:only-of-type {\n",
       "        vertical-align: middle;\n",
       "    }\n",
       "\n",
       "    .dataframe tbody tr th {\n",
       "        vertical-align: top;\n",
       "    }\n",
       "\n",
       "    .dataframe thead th {\n",
       "        text-align: right;\n",
       "    }\n",
       "</style>\n",
       "<table border=\"1\" class=\"dataframe\">\n",
       "  <thead>\n",
       "    <tr style=\"text-align: right;\">\n",
       "      <th></th>\n",
       "      <th>cellCount</th>\n",
       "      <th>cellWeight</th>\n",
       "      <th>maxCellWieght</th>\n",
       "      <th>totalCount</th>\n",
       "    </tr>\n",
       "  </thead>\n",
       "  <tbody>\n",
       "    <tr>\n",
       "      <th>0</th>\n",
       "      <td>161</td>\n",
       "      <td>161</td>\n",
       "      <td>203</td>\n",
       "      <td>2662</td>\n",
       "    </tr>\n",
       "  </tbody>\n",
       "</table>\n",
       "</div>"
      ],
      "text/plain": [
       "   cellCount  cellWeight  maxCellWieght  totalCount\n",
       "0        161         161            203        2662"
      ]
     },
     "execution_count": 71,
     "metadata": {},
     "output_type": "execute_result"
    }
   ],
   "source": [
    "pd.DataFrame([r.deck_widget.selected_data])"
   ]
  }
 ],
 "metadata": {
  "kernelspec": {
   "display_name": "Python 3",
   "language": "python",
   "name": "python3"
  },
  "language_info": {
   "codemirror_mode": {
    "name": "ipython",
    "version": 3
   },
   "file_extension": ".py",
   "mimetype": "text/x-python",
   "name": "python",
   "nbconvert_exporter": "python",
   "pygments_lexer": "ipython3",
   "version": "3.7.4"
  }
 },
 "nbformat": 4,
 "nbformat_minor": 2
}
