{
 "cells": [
  {
   "cell_type": "code",
   "execution_count": 12,
   "metadata": {},
   "outputs": [],
   "source": [
    "import pydeck as pdk"
   ]
  },
  {
   "cell_type": "code",
   "execution_count": 23,
   "metadata": {},
   "outputs": [],
   "source": [
    "# Example from https://deck.gl/json\n",
    "layer = pdk.Layer(\n",
    "    'HexagonLayer',\n",
    "    'heatmap',\n",
    "    'https://raw.githubusercontent.com/uber-common/deck.gl-data/master/examples/3d-heatmap/heatmap-data.csv',\n",
    "    elevation_scale=50,\n",
    "    elevation_range=[0, 3000],\n",
    "    extruded=True,\n",
    "    coverage=1)\n",
    "lights = pdk.LightSettings(\n",
    "    lights_position=[\n",
    "        -0.144528,\n",
    "        49.739968,\n",
    "        8000,\n",
    "        -3.807751,\n",
    "        54.104682,\n",
    "        10000],\n",
    "    ambient_ratio=0.7,\n",
    "    diffuse_ratio=0.6)\n",
    "layer.light_settings = lights\n",
    "view_state = pdk.ViewState(\n",
    "    longitude=-1.415,\n",
    "    latitude=52.2323,\n",
    "    zoom=6.6,\n",
    "    min_zoom=5,\n",
    "    max_zoom=15,\n",
    "    pitch=40.5,\n",
    "    bearing=-27.396)\n",
    "view = pdk.View('MapView', True)\n",
    "r = pdk.Deck(layers=[layer], initial_view_state=view_state, views=[view])"
   ]
  },
  {
   "cell_type": "code",
   "execution_count": 24,
   "metadata": {
    "scrolled": false
   },
   "outputs": [
    {
     "data": {
      "application/vnd.jupyter.widget-view+json": {
       "model_id": "dc5bb823a356428bb31a50d37468d518",
       "version_major": 2,
       "version_minor": 0
      },
      "text/plain": [
       "DeckGLWidget()"
      ]
     },
     "metadata": {},
     "output_type": "display_data"
    }
   ],
   "source": [
    "w = pydeck.DeckGLWidget()\n",
    "w"
   ]
  },
  {
   "cell_type": "code",
   "execution_count": 25,
   "metadata": {},
   "outputs": [],
   "source": [
    "w.json_input = str(r)"
   ]
  }
 ],
 "metadata": {
  "kernelspec": {
   "display_name": "Python 2",
   "language": "python",
   "name": "python2"
  },
  "language_info": {
   "codemirror_mode": {
    "name": "ipython",
    "version": 2
   },
   "file_extension": ".py",
   "mimetype": "text/x-python",
   "name": "python",
   "nbconvert_exporter": "python",
   "pygments_lexer": "ipython2",
   "version": "2.7.16"
  }
 },
 "nbformat": 4,
 "nbformat_minor": 2
}
